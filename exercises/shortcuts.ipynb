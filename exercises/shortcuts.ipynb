{
 "cells": [
  {
   "cell_type": "code",
   "execution_count": null,
   "metadata": {},
   "outputs": [],
   "source": [
    "in_dir = 'data_exam/'\n",
    "im_org = io.imread(f'{in_dir}Letters.png')\n",
    "im_org = color.rgb2gray(im_org)\n",
    "io.imshow(im_org)\n",
    "\n",
    "### Only the mask true/false\n",
    "mask = im_org > 150\n",
    "io.imshow(mask)\n",
    "\n",
    "### The org image with the mask\n",
    "im_org[mask] = 255\n",
    "io.imshow(im_org)"
   ]
  },
  {
   "cell_type": "markdown",
   "metadata": {},
   "source": [
    "## Histograms"
   ]
  },
  {
   "cell_type": "code",
   "execution_count": null,
   "metadata": {},
   "outputs": [],
   "source": [
    "h = plt.hist(im_org.ravel(), bins=256)\n",
    "bin_no = 100\n",
    "count = h[0][bin_no]\n",
    "print(f\"There are {count} pixel values in bin {bin_no}\")\n",
    "\n",
    "print('Max intensity', max(h[1]))\n",
    "print('Min intensity', min(h[1]))\n",
    "print('Most frequent intensity:', np.argmax(h[0]))"
   ]
  },
  {
   "cell_type": "markdown",
   "metadata": {},
   "source": [
    "## RGB components"
   ]
  },
  {
   "cell_type": "code",
   "execution_count": null,
   "metadata": {},
   "outputs": [],
   "source": [
    "r_comp = im_org[:, :, 0]\n",
    "g_comp = im_org[:, :, 1]\n",
    "b_comp = im_org[:, :, 2]\n",
    "\n",
    "rgb_filtered = (r_comp > 100) & (g_comp < 100) & (b_comp < 100)\n",
    "rgb_filtered = img_as_ubyte(rgb_filtered)"
   ]
  },
  {
   "cell_type": "markdown",
   "metadata": {},
   "source": [
    "footprint = disk(3)\n",
    "eroded = erosion(rgb_filtered, footprint)\n",
    "mask = eroded.astype(bool)\n",
    "mask.sum()"
   ]
  },
  {
   "cell_type": "markdown",
   "metadata": {},
   "source": [
    "## HSV"
   ]
  },
  {
   "cell_type": "code",
   "execution_count": null,
   "metadata": {},
   "outputs": [],
   "source": [
    "# Load image\n",
    "im_org = io.imread('data/' + 'nike.png')\n",
    "\n",
    "# Convert to grey\n",
    "im_org = color.rgb2hsv(im_org)\n",
    "\n",
    "# Get the hue component\n",
    "h_img = im_org[:, :, 0]\n",
    "\n",
    "# Create a binary image by setting all pixels with an H value of 0.3 < H < 0.7 to 1 and the rest of the pixels to 0\n",
    "bin_img = np.logical_and(h_img > 0.3, h_img < 0.7).astype(np.uint8)"
   ]
  }
 ],
 "metadata": {
  "language_info": {
   "name": "python"
  }
 },
 "nbformat": 4,
 "nbformat_minor": 2
}
